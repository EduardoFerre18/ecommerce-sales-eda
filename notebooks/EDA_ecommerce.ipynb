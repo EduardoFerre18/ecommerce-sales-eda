{
 "cells": [
  {
   "cell_type": "markdown",
   "id": "c756715a",
   "metadata": {},
   "source": [
    "# Análisis Exploratorio de Datos de Ventas en E-commerce\n",
    "\n",
    "# Autor: Eduardo Ferré Valderrama\n"
   ]
  },
  {
   "cell_type": "markdown",
   "id": "dd9be320",
   "metadata": {},
   "source": [
    "## Introducción\n",
    "\n",
    "Este notebook realiza un análisis exploratorio de datos (EDA) sobre un conjunto de datos de ventas en un e-commerce. El objetivo es explorar las características de los datos, identificar patrones y tendencias, y preparar los datos para un análisis más profundo.\n",
    "\n",
    "El dataset contiene información sobre transacciones de ventas, incluyendo detalles del cliente, productos comprados, precios y fechas de compra. El análisis se centra en la identificación de tendencias de ventas, segmentación de clientes y análisis de productos.\n",
    "\n",
    "Se utilizan bibliotecas como pandas, numpy, matplotlib y seaborn para la manipulación y visualización de datos. El análisis incluye la limpieza de datos, la exploración de variables, la identificación de valores atípicos y la creación de visualizaciones para comprender mejor los patrones en los datos.\n"
   ]
  },
  {
   "cell_type": "markdown",
   "id": "28095b89",
   "metadata": {},
   "source": [
    "## Importación de librerías y carga de datos\n"
   ]
  },
  {
   "cell_type": "code",
   "execution_count": 2,
   "id": "eb2b2cb6",
   "metadata": {},
   "outputs": [],
   "source": [
    "import pandas as pd\n",
    "import numpy as np\n",
    "import matplotlib.pyplot as plt\n",
    "import seaborn as sns\n",
    "import plotly.express as px\n",
    "import warnings\n",
    "warnings.filterwarnings(\"ignore\")\n",
    "%matplotlib inline\n",
    "\n",
    "df = pd.read_csv(\"../data/ecommerce-dataset.csv\")"
   ]
  },
  {
   "cell_type": "markdown",
   "id": "c2db8f21",
   "metadata": {},
   "source": [
    "## Vista preliminar e inspección general\n"
   ]
  },
  {
   "cell_type": "code",
   "execution_count": 6,
   "id": "da1ee182",
   "metadata": {},
   "outputs": [
    {
     "name": "stdout",
     "output_type": "stream",
     "text": [
      "<class 'pandas.core.frame.DataFrame'>\n",
      "RangeIndex: 51290 entries, 0 to 51289\n",
      "Data columns (total 16 columns):\n",
      " #   Column               Non-Null Count  Dtype  \n",
      "---  ------               --------------  -----  \n",
      " 0   Order_Date           51290 non-null  object \n",
      " 1   Time                 51290 non-null  object \n",
      " 2   Aging                51289 non-null  float64\n",
      " 3   Customer_Id          51290 non-null  int64  \n",
      " 4   Gender               51290 non-null  object \n",
      " 5   Device_Type          51290 non-null  object \n",
      " 6   Customer_Login_type  51290 non-null  object \n",
      " 7   Product_Category     51290 non-null  object \n",
      " 8   Product              51290 non-null  object \n",
      " 9   Sales                51289 non-null  float64\n",
      " 10  Quantity             51288 non-null  float64\n",
      " 11  Discount             51289 non-null  float64\n",
      " 12  Profit               51290 non-null  float64\n",
      " 13  Shipping_Cost        51289 non-null  float64\n",
      " 14  Order_Priority       51288 non-null  object \n",
      " 15  Payment_method       51290 non-null  object \n",
      "dtypes: float64(6), int64(1), object(9)\n",
      "memory usage: 6.3+ MB\n"
     ]
    },
    {
     "data": {
      "text/html": [
       "<div>\n",
       "<style scoped>\n",
       "    .dataframe tbody tr th:only-of-type {\n",
       "        vertical-align: middle;\n",
       "    }\n",
       "\n",
       "    .dataframe tbody tr th {\n",
       "        vertical-align: top;\n",
       "    }\n",
       "\n",
       "    .dataframe thead th {\n",
       "        text-align: right;\n",
       "    }\n",
       "</style>\n",
       "<table border=\"1\" class=\"dataframe\">\n",
       "  <thead>\n",
       "    <tr style=\"text-align: right;\">\n",
       "      <th></th>\n",
       "      <th>Order_Date</th>\n",
       "      <th>Time</th>\n",
       "      <th>Aging</th>\n",
       "      <th>Customer_Id</th>\n",
       "      <th>Gender</th>\n",
       "      <th>Device_Type</th>\n",
       "      <th>Customer_Login_type</th>\n",
       "      <th>Product_Category</th>\n",
       "      <th>Product</th>\n",
       "      <th>Sales</th>\n",
       "      <th>Quantity</th>\n",
       "      <th>Discount</th>\n",
       "      <th>Profit</th>\n",
       "      <th>Shipping_Cost</th>\n",
       "      <th>Order_Priority</th>\n",
       "      <th>Payment_method</th>\n",
       "    </tr>\n",
       "  </thead>\n",
       "  <tbody>\n",
       "    <tr>\n",
       "      <th>0</th>\n",
       "      <td>2018-01-02</td>\n",
       "      <td>10:56:33</td>\n",
       "      <td>8.0</td>\n",
       "      <td>37077</td>\n",
       "      <td>Female</td>\n",
       "      <td>Web</td>\n",
       "      <td>Member</td>\n",
       "      <td>Auto &amp; Accessories</td>\n",
       "      <td>Car Media Players</td>\n",
       "      <td>140.0</td>\n",
       "      <td>1.0</td>\n",
       "      <td>0.3</td>\n",
       "      <td>46.0</td>\n",
       "      <td>4.6</td>\n",
       "      <td>Medium</td>\n",
       "      <td>credit_card</td>\n",
       "    </tr>\n",
       "    <tr>\n",
       "      <th>1</th>\n",
       "      <td>2018-07-24</td>\n",
       "      <td>20:41:37</td>\n",
       "      <td>2.0</td>\n",
       "      <td>59173</td>\n",
       "      <td>Female</td>\n",
       "      <td>Web</td>\n",
       "      <td>Member</td>\n",
       "      <td>Auto &amp; Accessories</td>\n",
       "      <td>Car Speakers</td>\n",
       "      <td>211.0</td>\n",
       "      <td>1.0</td>\n",
       "      <td>0.3</td>\n",
       "      <td>112.0</td>\n",
       "      <td>11.2</td>\n",
       "      <td>Medium</td>\n",
       "      <td>credit_card</td>\n",
       "    </tr>\n",
       "    <tr>\n",
       "      <th>2</th>\n",
       "      <td>2018-11-08</td>\n",
       "      <td>08:38:49</td>\n",
       "      <td>8.0</td>\n",
       "      <td>41066</td>\n",
       "      <td>Female</td>\n",
       "      <td>Web</td>\n",
       "      <td>Member</td>\n",
       "      <td>Auto &amp; Accessories</td>\n",
       "      <td>Car Body Covers</td>\n",
       "      <td>117.0</td>\n",
       "      <td>5.0</td>\n",
       "      <td>0.1</td>\n",
       "      <td>31.2</td>\n",
       "      <td>3.1</td>\n",
       "      <td>Critical</td>\n",
       "      <td>credit_card</td>\n",
       "    </tr>\n",
       "    <tr>\n",
       "      <th>3</th>\n",
       "      <td>2018-04-18</td>\n",
       "      <td>19:28:06</td>\n",
       "      <td>7.0</td>\n",
       "      <td>50741</td>\n",
       "      <td>Female</td>\n",
       "      <td>Web</td>\n",
       "      <td>Member</td>\n",
       "      <td>Auto &amp; Accessories</td>\n",
       "      <td>Car &amp; Bike Care</td>\n",
       "      <td>118.0</td>\n",
       "      <td>1.0</td>\n",
       "      <td>0.3</td>\n",
       "      <td>26.2</td>\n",
       "      <td>2.6</td>\n",
       "      <td>High</td>\n",
       "      <td>credit_card</td>\n",
       "    </tr>\n",
       "    <tr>\n",
       "      <th>4</th>\n",
       "      <td>2018-08-13</td>\n",
       "      <td>21:18:39</td>\n",
       "      <td>9.0</td>\n",
       "      <td>53639</td>\n",
       "      <td>Female</td>\n",
       "      <td>Web</td>\n",
       "      <td>Member</td>\n",
       "      <td>Auto &amp; Accessories</td>\n",
       "      <td>Tyre</td>\n",
       "      <td>250.0</td>\n",
       "      <td>1.0</td>\n",
       "      <td>0.3</td>\n",
       "      <td>160.0</td>\n",
       "      <td>16.0</td>\n",
       "      <td>Critical</td>\n",
       "      <td>credit_card</td>\n",
       "    </tr>\n",
       "  </tbody>\n",
       "</table>\n",
       "</div>"
      ],
      "text/plain": [
       "   Order_Date      Time  Aging  Customer_Id  Gender Device_Type  \\\n",
       "0  2018-01-02  10:56:33    8.0        37077  Female         Web   \n",
       "1  2018-07-24  20:41:37    2.0        59173  Female         Web   \n",
       "2  2018-11-08  08:38:49    8.0        41066  Female         Web   \n",
       "3  2018-04-18  19:28:06    7.0        50741  Female         Web   \n",
       "4  2018-08-13  21:18:39    9.0        53639  Female         Web   \n",
       "\n",
       "  Customer_Login_type    Product_Category            Product  Sales  Quantity  \\\n",
       "0              Member  Auto & Accessories  Car Media Players  140.0       1.0   \n",
       "1              Member  Auto & Accessories       Car Speakers  211.0       1.0   \n",
       "2              Member  Auto & Accessories    Car Body Covers  117.0       5.0   \n",
       "3              Member  Auto & Accessories    Car & Bike Care  118.0       1.0   \n",
       "4              Member  Auto & Accessories               Tyre  250.0       1.0   \n",
       "\n",
       "   Discount  Profit  Shipping_Cost Order_Priority Payment_method  \n",
       "0       0.3    46.0            4.6         Medium    credit_card  \n",
       "1       0.3   112.0           11.2         Medium    credit_card  \n",
       "2       0.1    31.2            3.1       Critical    credit_card  \n",
       "3       0.3    26.2            2.6           High    credit_card  \n",
       "4       0.3   160.0           16.0       Critical    credit_card  "
      ]
     },
     "execution_count": 6,
     "metadata": {},
     "output_type": "execute_result"
    }
   ],
   "source": [
    "df.info()\n",
    "df.head()"
   ]
  },
  {
   "cell_type": "markdown",
   "id": "144f0caa",
   "metadata": {},
   "source": [
    "Se inspecciona la estructura del dataset para entender cuántas columnas y registros tiene, así como los tipos de datos.\n",
    "\n",
    "El dataset contiene **51.290 registros** y **16 columnas** que describen distintos aspectos de transacciones en una tienda online: datos del cliente (`Customer_Id`, `Gender`, `Device_Type`), del producto (`Product`, `Product_Category`, `Sales`, `Quantity`, etc.), y de la orden (`Order_Date`, `Time`, `Order_Priority`, `Payment_method`, etc.).\n",
    "\n",
    "Observamos que las columnas `Order_Date` y `Time` están en formato `object`, por lo que se deberán convertir a formatos de fecha y hora (`datetime`) para facilitar análisis temporales.\n"
   ]
  },
  {
   "cell_type": "markdown",
   "id": "8808be29",
   "metadata": {},
   "source": [
    "# Estadísticas descriptivas y valores faltantes\n"
   ]
  },
  {
   "cell_type": "markdown",
   "id": "cbfca1be",
   "metadata": {},
   "source": [
    "Aquí se presentan estadísticas descriptivas del dataset, incluyendo el conteo, media, desviación estándar, valores mínimos y máximos de las variables numéricas.\n"
   ]
  },
  {
   "cell_type": "code",
   "execution_count": 12,
   "id": "3e6ae1a8",
   "metadata": {},
   "outputs": [
    {
     "data": {
      "text/plain": [
       "Order_Date             0\n",
       "Time                   0\n",
       "Aging                  1\n",
       "Customer_Id            0\n",
       "Gender                 0\n",
       "Device_Type            0\n",
       "Customer_Login_type    0\n",
       "Product_Category       0\n",
       "Product                0\n",
       "Sales                  1\n",
       "Quantity               2\n",
       "Discount               1\n",
       "Profit                 0\n",
       "Shipping_Cost          1\n",
       "Order_Priority         2\n",
       "Payment_method         0\n",
       "dtype: int64"
      ]
     },
     "execution_count": 12,
     "metadata": {},
     "output_type": "execute_result"
    }
   ],
   "source": [
    "df.isnull().sum()"
   ]
  },
  {
   "cell_type": "markdown",
   "id": "83858632",
   "metadata": {},
   "source": [
    "Se detectaron valores nulos en 6 columnas, pero representaban menos del 0.01% del dataset. Por ello, se optará por eliminar las filas correspondientes para mantener la integridad del análisis sin afectar la muestra.\n"
   ]
  },
  {
   "cell_type": "code",
   "execution_count": 13,
   "id": "dbecfe75",
   "metadata": {},
   "outputs": [
    {
     "data": {
      "text/plain": [
       "np.int64(0)"
      ]
     },
     "execution_count": 13,
     "metadata": {},
     "output_type": "execute_result"
    }
   ],
   "source": [
    "df.duplicated().sum()"
   ]
  }
 ],
 "metadata": {
  "kernelspec": {
   "display_name": "Python 3",
   "language": "python",
   "name": "python3"
  },
  "language_info": {
   "codemirror_mode": {
    "name": "ipython",
    "version": 3
   },
   "file_extension": ".py",
   "mimetype": "text/x-python",
   "name": "python",
   "nbconvert_exporter": "python",
   "pygments_lexer": "ipython3",
   "version": "3.12.6"
  }
 },
 "nbformat": 4,
 "nbformat_minor": 5
}
